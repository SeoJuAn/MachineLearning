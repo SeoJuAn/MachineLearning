{
 "cells": [
  {
   "cell_type": "markdown",
   "id": "187bc05b",
   "metadata": {},
   "source": [
    "# EXCEL로 만든 인공신경망을 pytorch의 Tensor 클래스을 이용하여 만들기"
   ]
  },
  {
   "cell_type": "code",
   "execution_count": 1,
   "id": "40b1557a",
   "metadata": {},
   "outputs": [],
   "source": [
    "import torch"
   ]
  },
  {
   "cell_type": "markdown",
   "id": "52dacaad",
   "metadata": {},
   "source": [
    "필요한 함수의 정의하기"
   ]
  },
  {
   "cell_type": "code",
   "execution_count": 2,
   "id": "c53c8aba",
   "metadata": {},
   "outputs": [],
   "source": [
    "def ReLU_func(outputs):\n",
    "    # 채우기\n",
    "    \n",
    "    #모듈 사용\n",
    "    #m = torch.nn.ReLU()\n",
    "    #final_outputs = m(outputs)\n",
    "    \n",
    "    #직접구현\n",
    "    final_outputs = torch.clamp(outputs,0)\n",
    "    return final_outputs\n",
    "\n",
    "def softmax(outputs):\n",
    "    # 채우기\n",
    "    #모듈 사용\n",
    "    m = torch.nn.Softmax(dim=1)\n",
    "    softmax = m(outputs)\n",
    "    \n",
    "    #직접구현\n",
    "#     softmax = torch.Tensor()\n",
    "#     for output in outputs:\n",
    "#         softmax = torch.cat((softmax, torch.exp(torch.unsqueeze(output, 0)) / torch.sum(torch.exp(torch.unsqueeze(output, 0)))))\n",
    "    return softmax\n",
    "\n",
    "def cross_entropy(outputs, labels):\n",
    "    return torch.sum(-labels * torch.log(outputs),1)"
   ]
  },
  {
   "cell_type": "markdown",
   "id": "8bb50e1f",
   "metadata": {},
   "source": [
    "Weight 값 설정하기"
   ]
  },
  {
   "cell_type": "code",
   "execution_count": 3,
   "id": "41143ded",
   "metadata": {},
   "outputs": [],
   "source": [
    "w_ih = torch.Tensor([[1,-2,3],\n",
    "                    [-2,5,3]])\n",
    "w_ho = torch.Tensor([[3,-2,4],\n",
    "                     [-1,2,3],\n",
    "                     [2,-2,-4]])"
   ]
  },
  {
   "cell_type": "markdown",
   "id": "1d9997f9",
   "metadata": {},
   "source": [
    "Batch 가 3인 Input 값과 Labels 값의 입력하기"
   ]
  },
  {
   "cell_type": "code",
   "execution_count": 4,
   "id": "a572aa07",
   "metadata": {},
   "outputs": [],
   "source": [
    "input = torch.Tensor([[2,-4],\n",
    "                      [0,3],\n",
    "                      [-6,2]])\n",
    "labels = torch.Tensor([[1,0,0],\n",
    "                      [0,1,0],\n",
    "                      [0,0,1]])"
   ]
  },
  {
   "cell_type": "markdown",
   "id": "2bef726d",
   "metadata": {},
   "source": [
    "L1의 활성화 함수 전의 값 구하기"
   ]
  },
  {
   "cell_type": "code",
   "execution_count": 5,
   "id": "bf59a79f",
   "metadata": {},
   "outputs": [
    {
     "name": "stdout",
     "output_type": "stream",
     "text": [
      "tensor([[ 10., -24.,  -6.],\n",
      "        [ -6.,  15.,   9.],\n",
      "        [-10.,  22., -12.]])\n"
     ]
    }
   ],
   "source": [
    "L1 = input.matmul(w_ih)\n",
    "print(L1)"
   ]
  },
  {
   "cell_type": "markdown",
   "id": "f8de5cb0",
   "metadata": {},
   "source": [
    "ReLU의 적용하기"
   ]
  },
  {
   "cell_type": "code",
   "execution_count": 6,
   "id": "b8c2c44f",
   "metadata": {},
   "outputs": [
    {
     "name": "stdout",
     "output_type": "stream",
     "text": [
      "tensor([[10.,  0.,  0.],\n",
      "        [ 0., 15.,  9.],\n",
      "        [ 0., 22.,  0.]])\n"
     ]
    }
   ],
   "source": [
    "L1 = ReLU_func(L1)\n",
    "print(L1)"
   ]
  },
  {
   "cell_type": "markdown",
   "id": "f9e9b42c",
   "metadata": {},
   "source": [
    "Output 구하기"
   ]
  },
  {
   "cell_type": "code",
   "execution_count": 7,
   "id": "72dc0d6c",
   "metadata": {},
   "outputs": [
    {
     "name": "stdout",
     "output_type": "stream",
     "text": [
      "tensor([[ 30., -20.,  40.],\n",
      "        [  3.,  12.,   9.],\n",
      "        [-22.,  44.,  66.]])\n"
     ]
    }
   ],
   "source": [
    "outputs = L1.matmul(w_ho)\n",
    "print(outputs)"
   ]
  },
  {
   "cell_type": "markdown",
   "id": "86e4c95f",
   "metadata": {},
   "source": [
    "Softmax의 적용"
   ]
  },
  {
   "cell_type": "code",
   "execution_count": 8,
   "id": "d4f97dde",
   "metadata": {},
   "outputs": [
    {
     "name": "stdout",
     "output_type": "stream",
     "text": [
      "tensor([[4.5398e-05, 8.7561e-27, 9.9995e-01],\n",
      "        [1.1754e-04, 9.5246e-01, 4.7420e-02],\n",
      "        [6.0546e-39, 2.7895e-10, 1.0000e+00]])\n"
     ]
    }
   ],
   "source": [
    "so = softmax(outputs)\n",
    "print(so)"
   ]
  },
  {
   "cell_type": "markdown",
   "id": "a2131903",
   "metadata": {},
   "source": [
    "sample별로 loss 구하기"
   ]
  },
  {
   "cell_type": "code",
   "execution_count": 9,
   "id": "e08c9c96",
   "metadata": {
    "scrolled": true
   },
   "outputs": [
    {
     "name": "stdout",
     "output_type": "stream",
     "text": [
      "tensor([10.0000,  0.0487,  0.0000])\n"
     ]
    }
   ],
   "source": [
    "loss = cross_entropy(so,labels)\n",
    "print(loss)"
   ]
  },
  {
   "cell_type": "markdown",
   "id": "8cd0b2cf",
   "metadata": {},
   "source": [
    "최종 loss 구하기"
   ]
  },
  {
   "cell_type": "code",
   "execution_count": 10,
   "id": "36fe5758",
   "metadata": {},
   "outputs": [
    {
     "name": "stdout",
     "output_type": "stream",
     "text": [
      "tensor(3.3496)\n"
     ]
    }
   ],
   "source": [
    "loss = torch.mean(loss)\n",
    "print(loss)"
   ]
  },
  {
   "cell_type": "markdown",
   "id": "eb21e73c",
   "metadata": {},
   "source": [
    "## EXCEL과 같은 답이 나오는가?"
   ]
  },
  {
   "cell_type": "markdown",
   "id": "893cd1b6",
   "metadata": {},
   "source": [
    " #### 아니면 이유가 무엇인가? \n"
   ]
  },
  {
   "cell_type": "raw",
   "id": "2a80ca3e",
   "metadata": {},
   "source": [
    "같은 답이 나옵니다."
   ]
  }
 ],
 "metadata": {
  "kernelspec": {
   "display_name": "Python 3 (ipykernel)",
   "language": "python",
   "name": "python3"
  },
  "language_info": {
   "codemirror_mode": {
    "name": "ipython",
    "version": 3
   },
   "file_extension": ".py",
   "mimetype": "text/x-python",
   "name": "python",
   "nbconvert_exporter": "python",
   "pygments_lexer": "ipython3",
   "version": "3.7.0"
  }
 },
 "nbformat": 4,
 "nbformat_minor": 5
}
